{
 "cells": [
  {
   "cell_type": "code",
   "execution_count": 6,
   "id": "af5c5c40",
   "metadata": {},
   "outputs": [],
   "source": [
    "import urllib"
   ]
  },
  {
   "cell_type": "code",
   "execution_count": 8,
   "id": "1100a2af",
   "metadata": {},
   "outputs": [],
   "source": [
    "from urllib.request import urlopen"
   ]
  },
  {
   "cell_type": "code",
   "execution_count": 11,
   "id": "4699278f",
   "metadata": {},
   "outputs": [],
   "source": [
    "html = urlopen(\"https://pythonscraping.com/pages/page1.html\")"
   ]
  },
  {
   "cell_type": "code",
   "execution_count": 12,
   "id": "a8616c82",
   "metadata": {},
   "outputs": [
    {
     "data": {
      "text/plain": [
       "http.client.HTTPResponse"
      ]
     },
     "execution_count": 12,
     "metadata": {},
     "output_type": "execute_result"
    }
   ],
   "source": [
    "type(html)"
   ]
  },
  {
   "cell_type": "code",
   "execution_count": 19,
   "id": "b99ed034",
   "metadata": {},
   "outputs": [],
   "source": [
    "html.read()"
   ]
  },
  {
   "cell_type": "code",
   "execution_count": 22,
   "id": "dd41f13a",
   "metadata": {},
   "outputs": [],
   "source": [
    "daum_url = 'https://t1.daumcdn.net/daumtop_chanel/op/20200723055344399.png'"
   ]
  },
  {
   "cell_type": "code",
   "execution_count": 24,
   "id": "92f3c7bb",
   "metadata": {},
   "outputs": [
    {
     "data": {
      "text/plain": [
       "('daum_logo.png', <http.client.HTTPMessage at 0x205286fedf0>)"
      ]
     },
     "execution_count": 24,
     "metadata": {},
     "output_type": "execute_result"
    }
   ],
   "source": [
    "urllib.request.urlretrieve(daum_url, 'daum_logo.png')"
   ]
  },
  {
   "cell_type": "code",
   "execution_count": 41,
   "id": "6857b3c6",
   "metadata": {},
   "outputs": [],
   "source": [
    "pengsoo_url = 'https://upload.wikimedia.org/wikipedia/ko/thumb/d/d4/%ED%8E%AD%EC%88%98.jpg/300px-%ED%8E%AD%EC%88%98.jpg'"
   ]
  },
  {
   "cell_type": "code",
   "execution_count": 42,
   "id": "a76deaae",
   "metadata": {},
   "outputs": [],
   "source": [
    "mem=urllib.request.urlopen(pengsoo_url).read()"
   ]
  },
  {
   "cell_type": "code",
   "execution_count": 43,
   "id": "2d1a4bd3",
   "metadata": {},
   "outputs": [],
   "source": [
    "with open('pengsoo.jpg', 'wb') as f:\n",
    "    f.write(mem)"
   ]
  },
  {
   "cell_type": "code",
   "execution_count": 44,
   "id": "ae625efc",
   "metadata": {},
   "outputs": [],
   "source": [
    "#Web Scraping: 웹 사이트 내에 있는 정보 추출"
   ]
  },
  {
   "cell_type": "code",
   "execution_count": 45,
   "id": "aac7feb8",
   "metadata": {},
   "outputs": [],
   "source": [
    "import webbrowser"
   ]
  },
  {
   "cell_type": "code",
   "execution_count": 56,
   "id": "c6cc059a",
   "metadata": {},
   "outputs": [],
   "source": [
    "#help(webbrowser)"
   ]
  },
  {
   "cell_type": "code",
   "execution_count": 50,
   "id": "77ed32d9",
   "metadata": {},
   "outputs": [
    {
     "data": {
      "text/plain": [
       "True"
      ]
     },
     "execution_count": 50,
     "metadata": {},
     "output_type": "execute_result"
    }
   ],
   "source": [
    "webbrowser.open_new('https://www.naver.com/')"
   ]
  },
  {
   "cell_type": "code",
   "execution_count": 51,
   "id": "e3469e84",
   "metadata": {},
   "outputs": [],
   "source": [
    "naver_search_url='https://search.naver.com/search.naver?query='"
   ]
  },
  {
   "cell_type": "code",
   "execution_count": 52,
   "id": "4bf77b13",
   "metadata": {},
   "outputs": [],
   "source": [
    "query = '호랑이'"
   ]
  },
  {
   "cell_type": "code",
   "execution_count": 54,
   "id": "1f4fc9db",
   "metadata": {},
   "outputs": [],
   "source": [
    "url = naver_search_url + query"
   ]
  },
  {
   "cell_type": "code",
   "execution_count": 55,
   "id": "9072a3e3",
   "metadata": {},
   "outputs": [
    {
     "data": {
      "text/plain": [
       "'https://search.naver.com/search.naver?query=호랑이'"
      ]
     },
     "execution_count": 55,
     "metadata": {},
     "output_type": "execute_result"
    }
   ],
   "source": [
    "url"
   ]
  },
  {
   "cell_type": "code",
   "execution_count": 57,
   "id": "7ee4cdc1",
   "metadata": {},
   "outputs": [
    {
     "data": {
      "text/plain": [
       "True"
      ]
     },
     "execution_count": 57,
     "metadata": {},
     "output_type": "execute_result"
    }
   ],
   "source": [
    "webbrowser.open_new('https://search.naver.com/search.naver?query=호랑이')"
   ]
  },
  {
   "cell_type": "code",
   "execution_count": 59,
   "id": "76de79a7",
   "metadata": {},
   "outputs": [],
   "source": [
    "google_search_url = 'https://www.google.com/search?q='"
   ]
  },
  {
   "cell_type": "code",
   "execution_count": 60,
   "id": "e681c451",
   "metadata": {},
   "outputs": [],
   "source": [
    "query = '펭수'"
   ]
  },
  {
   "cell_type": "code",
   "execution_count": 61,
   "id": "836942eb",
   "metadata": {},
   "outputs": [
    {
     "data": {
      "text/plain": [
       "True"
      ]
     },
     "execution_count": 61,
     "metadata": {},
     "output_type": "execute_result"
    }
   ],
   "source": [
    "webbrowser.open_new(google_search_url + query)"
   ]
  },
  {
   "cell_type": "code",
   "execution_count": 65,
   "id": "78332408",
   "metadata": {},
   "outputs": [],
   "source": [
    "urls = [naver_search_url, google_search_url]\n",
    "query = '소'\n",
    "for i in urls:\n",
    "    webbrowser.open_new(i+query)"
   ]
  }
 ],
 "metadata": {
  "kernelspec": {
   "display_name": "Python 3 (ipykernel)",
   "language": "python",
   "name": "python3"
  },
  "language_info": {
   "codemirror_mode": {
    "name": "ipython",
    "version": 3
   },
   "file_extension": ".py",
   "mimetype": "text/x-python",
   "name": "python",
   "nbconvert_exporter": "python",
   "pygments_lexer": "ipython3",
   "version": "3.9.7"
  }
 },
 "nbformat": 4,
 "nbformat_minor": 5
}

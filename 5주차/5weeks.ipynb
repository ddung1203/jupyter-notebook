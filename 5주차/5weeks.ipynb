{
 "cells": [
  {
   "cell_type": "code",
   "execution_count": 1,
   "id": "3e606a5e",
   "metadata": {},
   "outputs": [],
   "source": [
    "# BeautifulSoup: HTML를 탐색해서 원하는 부분만 쉽게 뽑아낼 수 있는 파이썬 라이브러리"
   ]
  },
  {
   "cell_type": "code",
   "execution_count": 2,
   "id": "fab5716c",
   "metadata": {},
   "outputs": [],
   "source": [
    "from urllib.request import urlopen"
   ]
  },
  {
   "cell_type": "code",
   "execution_count": 3,
   "id": "e5d11f09",
   "metadata": {},
   "outputs": [],
   "source": [
    "html = urlopen('https://www.naver.com/')"
   ]
  },
  {
   "cell_type": "code",
   "execution_count": 4,
   "id": "80709f2f",
   "metadata": {},
   "outputs": [],
   "source": [
    "naver = html.read()"
   ]
  },
  {
   "cell_type": "code",
   "execution_count": 5,
   "id": "e1e49820",
   "metadata": {},
   "outputs": [
    {
     "data": {
      "text/plain": [
       "bytes"
      ]
     },
     "execution_count": 5,
     "metadata": {},
     "output_type": "execute_result"
    }
   ],
   "source": [
    "type(naver)"
   ]
  },
  {
   "cell_type": "code",
   "execution_count": 6,
   "id": "2ff65182",
   "metadata": {},
   "outputs": [],
   "source": [
    "from bs4 import BeautifulSoup"
   ]
  },
  {
   "cell_type": "code",
   "execution_count": 9,
   "id": "9f4430c6",
   "metadata": {},
   "outputs": [],
   "source": [
    "# help(BeautifulSoup)"
   ]
  },
  {
   "cell_type": "code",
   "execution_count": 10,
   "id": "0f2ac5cf",
   "metadata": {},
   "outputs": [],
   "source": [
    "bs = BeautifulSoup(naver, 'lxml') # 구문분석"
   ]
  },
  {
   "cell_type": "code",
   "execution_count": 11,
   "id": "c26b9aea",
   "metadata": {},
   "outputs": [
    {
     "data": {
      "text/plain": [
       "bs4.BeautifulSoup"
      ]
     },
     "execution_count": 11,
     "metadata": {},
     "output_type": "execute_result"
    }
   ],
   "source": [
    "type(bs)"
   ]
  },
  {
   "cell_type": "code",
   "execution_count": 13,
   "id": "45a3b6f9",
   "metadata": {},
   "outputs": [
    {
     "data": {
      "text/plain": [
       "<title>NAVER</title>"
      ]
     },
     "execution_count": 13,
     "metadata": {},
     "output_type": "execute_result"
    }
   ],
   "source": [
    "bs.head.title"
   ]
  },
  {
   "cell_type": "code",
   "execution_count": 14,
   "id": "7ebde978",
   "metadata": {},
   "outputs": [
    {
     "data": {
      "text/plain": [
       "'NAVER'"
      ]
     },
     "execution_count": 14,
     "metadata": {},
     "output_type": "execute_result"
    }
   ],
   "source": [
    "bs.head.title.text"
   ]
  },
  {
   "cell_type": "code",
   "execution_count": 18,
   "id": "154df38e",
   "metadata": {},
   "outputs": [],
   "source": [
    "# 예외처리"
   ]
  },
  {
   "cell_type": "code",
   "execution_count": 19,
   "id": "fa86bd66",
   "metadata": {},
   "outputs": [],
   "source": [
    "from urllib.request import urlopen"
   ]
  },
  {
   "cell_type": "code",
   "execution_count": 20,
   "id": "50f949a3",
   "metadata": {},
   "outputs": [],
   "source": [
    "url = 'http://pythonscrapingthisurldoesnotexitst.com/' # 없는 페이지"
   ]
  },
  {
   "cell_type": "code",
   "execution_count": 25,
   "id": "6e407499",
   "metadata": {},
   "outputs": [],
   "source": [
    "# urlopen(url)"
   ]
  },
  {
   "cell_type": "code",
   "execution_count": 23,
   "id": "bb25199d",
   "metadata": {},
   "outputs": [],
   "source": [
    "url2 = 'https://pythonscraping.com/pages/error.html' # 404"
   ]
  },
  {
   "cell_type": "code",
   "execution_count": 26,
   "id": "1aa69df9",
   "metadata": {},
   "outputs": [],
   "source": [
    "# urlopen(url2)"
   ]
  },
  {
   "cell_type": "code",
   "execution_count": null,
   "id": "2b2357da",
   "metadata": {},
   "outputs": [],
   "source": []
  },
  {
   "cell_type": "code",
   "execution_count": 27,
   "id": "2f2c5eeb",
   "metadata": {},
   "outputs": [],
   "source": [
    "from urllib.request import HTTPError"
   ]
  },
  {
   "cell_type": "code",
   "execution_count": 28,
   "id": "3dad75f4",
   "metadata": {},
   "outputs": [
    {
     "name": "stdout",
     "output_type": "stream",
     "text": [
      "HTTP Error 404: Not Found\n"
     ]
    }
   ],
   "source": [
    "try:\n",
    "    html=urlopen('https://pythonscraping.com/pages/error.html')\n",
    "except HTTPError as e:\n",
    "    print(e)"
   ]
  },
  {
   "cell_type": "code",
   "execution_count": null,
   "id": "92c57d73",
   "metadata": {},
   "outputs": [],
   "source": []
  },
  {
   "cell_type": "code",
   "execution_count": 30,
   "id": "de3e7cc8",
   "metadata": {},
   "outputs": [],
   "source": [
    "from urllib.error import URLError"
   ]
  },
  {
   "cell_type": "code",
   "execution_count": 33,
   "id": "22cdfebd",
   "metadata": {},
   "outputs": [
    {
     "name": "stdout",
     "output_type": "stream",
     "text": [
      "The server cound not be found\n"
     ]
    }
   ],
   "source": [
    "try:\n",
    "    html = urlopen('http://pythonscrapingthisurldoesnotexitst.com/')\n",
    "except HTTPError as e:\n",
    "    print(e)\n",
    "except URLError as e:\n",
    "    print('The server cound not be found')\n",
    "else:\n",
    "    print('IT Worked')"
   ]
  },
  {
   "cell_type": "code",
   "execution_count": 35,
   "id": "fc554852",
   "metadata": {},
   "outputs": [],
   "source": [
    "# None 객체 자체에 태그가 있다고 가정하고 그 태그에 접근하려면 AttributeError가 발생"
   ]
  },
  {
   "cell_type": "code",
   "execution_count": 37,
   "id": "9a22966b",
   "metadata": {},
   "outputs": [],
   "source": [
    "# 최종코드"
   ]
  },
  {
   "cell_type": "code",
   "execution_count": 38,
   "id": "40a6f984",
   "metadata": {},
   "outputs": [
    {
     "name": "stdout",
     "output_type": "stream",
     "text": [
      "<h1>An Interesting Title</h1>\n"
     ]
    }
   ],
   "source": [
    "from urllib.request import urlopen\n",
    "from urllib.request import HTTPError\n",
    "from bs4 import BeautifulSoup\n",
    "\n",
    "def getTitle(url):\n",
    "    try:\n",
    "        html = urlopen(url)\n",
    "    except HTTPError as e:\n",
    "        return None\n",
    "    \n",
    "    try:\n",
    "        bs = BeautifulSoup(html.read(), 'lxml')\n",
    "        title = bs.body.h1\n",
    "    except AttributeError as e:\n",
    "        return None\n",
    "    return title\n",
    "\n",
    "title = getTitle('https://pythonscraping.com/pages/page1.html')\n",
    "if title == None:\n",
    "    print('Title Could not be found')\n",
    "else:\n",
    "    print(title)"
   ]
  }
 ],
 "metadata": {
  "kernelspec": {
   "display_name": "Python 3 (ipykernel)",
   "language": "python",
   "name": "python3"
  },
  "language_info": {
   "codemirror_mode": {
    "name": "ipython",
    "version": 3
   },
   "file_extension": ".py",
   "mimetype": "text/x-python",
   "name": "python",
   "nbconvert_exporter": "python",
   "pygments_lexer": "ipython3",
   "version": "3.9.7"
  }
 },
 "nbformat": 4,
 "nbformat_minor": 5
}

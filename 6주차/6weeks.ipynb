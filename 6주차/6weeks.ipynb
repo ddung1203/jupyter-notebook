{
 "cells": [
  {
   "cell_type": "markdown",
   "id": "08a6e1d1",
   "metadata": {},
   "source": [
    "크롤링: 웹 페이지의 하이퍼링크를 순회하면서 웹 페리지를 다운로드하는 작업"
   ]
  },
  {
   "cell_type": "markdown",
   "id": "b48f6cf4",
   "metadata": {},
   "source": [
    "스크레이핑: 다운로드한 웹 페이지에서 필요한 정보를 추출하는 작업"
   ]
  },
  {
   "cell_type": "markdown",
   "id": "b1995555",
   "metadata": {},
   "source": [
    "Wget: HTTP 통신 또는 FTP 통신을 사용해서 서버에서 파일 또는 컨텐츠를 다운로드할 때 사용하는 소프트웨어"
   ]
  },
  {
   "cell_type": "code",
   "execution_count": 3,
   "id": "453eb492",
   "metadata": {},
   "outputs": [
    {
     "name": "stdout",
     "output_type": "stream",
     "text": [
      "Overwriting Html_ex.html\n"
     ]
    }
   ],
   "source": [
    "%%writefile Html_ex.html\n",
    "<!doctype html>\n",
    "<html>\n",
    "<head>\n",
    "<meta charset = 'utf-8'>\n",
    "<title>연습용 HTML</title>\n",
    "</head>\n",
    "<body>\n",
    "<h1>도서 정보</h1>\n",
    "<p id = \"book_title\">파이썬</p>\n",
    "<p id = \"author\">전중석</p>\n",
    "<p id = \"publisher\">한국출판사</p>\n",
    "<p id = \"year\">2022</p>\n",
    "</body>\n",
    "</html>"
   ]
  },
  {
   "cell_type": "markdown",
   "id": "02a2ec80",
   "metadata": {},
   "source": [
    "파싱(Parsing)\n",
    "\n",
    "HTML 코드 구문을 이해하고 요소별로 HTML 코드 분류"
   ]
  },
  {
   "cell_type": "code",
   "execution_count": 4,
   "id": "13828287",
   "metadata": {},
   "outputs": [],
   "source": [
    "from bs4 import BeautifulSoup"
   ]
  },
  {
   "cell_type": "code",
   "execution_count": 7,
   "id": "5b19b57b",
   "metadata": {},
   "outputs": [],
   "source": [
    "html = \"\"\"\n",
    "<!doctype html>\n",
    "<html>\n",
    "<head>\n",
    "<meta charset = 'utf-8'>\n",
    "<title>연습용 HTML</title>\n",
    "</head>\n",
    "<body>\n",
    "<h1>도서 정보</h1>\n",
    "<p id = \"book_title\">파이썬</p>\n",
    "<p id = \"author\">전중석</p>\n",
    "<p id = \"publisher\">한국출판사</p>\n",
    "<p id = \"year\">2022</p>\n",
    "</body>\n",
    "</html>\n",
    "\"\"\""
   ]
  },
  {
   "cell_type": "code",
   "execution_count": 9,
   "id": "98193a7d",
   "metadata": {},
   "outputs": [],
   "source": [
    "bs = BeautifulSoup(html, 'lxml')"
   ]
  },
  {
   "cell_type": "code",
   "execution_count": 11,
   "id": "c987baf0",
   "metadata": {},
   "outputs": [
    {
     "data": {
      "text/plain": [
       "<p id=\"book_title\">파이썬</p>"
      ]
     },
     "execution_count": 11,
     "metadata": {},
     "output_type": "execute_result"
    }
   ],
   "source": [
    "bs.find('p')"
   ]
  },
  {
   "cell_type": "code",
   "execution_count": 13,
   "id": "4721a7dd",
   "metadata": {},
   "outputs": [],
   "source": [
    "li = bs.findAll('p')"
   ]
  },
  {
   "cell_type": "code",
   "execution_count": 15,
   "id": "4d7796c2",
   "metadata": {},
   "outputs": [
    {
     "name": "stdout",
     "output_type": "stream",
     "text": [
      "파이썬\n",
      "전중석\n",
      "한국출판사\n",
      "2022\n"
     ]
    }
   ],
   "source": [
    "for i in li:\n",
    "    print(i.text)"
   ]
  },
  {
   "cell_type": "markdown",
   "id": "ec1bbb16",
   "metadata": {},
   "source": [
    "웹페이지의 HTML 소스 코드를 가져오기 위한 내장 패키지 urllib\n",
    "\n",
    "아나콘다의 경우엔 requests 라이브러리 사용"
   ]
  },
  {
   "cell_type": "code",
   "execution_count": 16,
   "id": "02be8be4",
   "metadata": {},
   "outputs": [],
   "source": [
    "import requests"
   ]
  },
  {
   "cell_type": "code",
   "execution_count": 19,
   "id": "6faed61e",
   "metadata": {},
   "outputs": [],
   "source": [
    "status = requests.get('https://www.google.co.kr/')"
   ]
  },
  {
   "cell_type": "markdown",
   "id": "7f1c3f8d",
   "metadata": {},
   "source": [
    "<Responce [200]의 경우 서버에서 정상적으로 처리하여 응답한 경우를 말함\n",
    "\n",
    "(HTTP 서버 응답 코드)"
   ]
  },
  {
   "cell_type": "code",
   "execution_count": 20,
   "id": "25521aee",
   "metadata": {},
   "outputs": [
    {
     "data": {
      "text/plain": [
       "requests.models.Response"
      ]
     },
     "execution_count": 20,
     "metadata": {},
     "output_type": "execute_result"
    }
   ],
   "source": [
    "type(status)"
   ]
  },
  {
   "cell_type": "code",
   "execution_count": 22,
   "id": "9bd97064",
   "metadata": {},
   "outputs": [],
   "source": [
    "# status.text"
   ]
  },
  {
   "cell_type": "code",
   "execution_count": 32,
   "id": "ea88c092",
   "metadata": {},
   "outputs": [],
   "source": [
    "html = \"\"\"\n",
    "<!doctype html>\n",
    "<html>\n",
    "<head>\n",
    "<meta charset = 'utf-8'>\n",
    "<title>연습용 HTML</title>\n",
    "</head>\n",
    "<body>\n",
    "<a href = \"https://www.naver.com\">naver</a>\n",
    "<a href = \"https://www.google.com\">google</a>\n",
    "<a href = \"https://www.daum.net\">daum</a>\n",
    "</body>\n",
    "</html>\n",
    "\"\"\""
   ]
  },
  {
   "cell_type": "code",
   "execution_count": 33,
   "id": "2b6be87d",
   "metadata": {},
   "outputs": [],
   "source": [
    "bs = BeautifulSoup(html, 'lxml')"
   ]
  },
  {
   "cell_type": "code",
   "execution_count": 34,
   "id": "1f10cbaa",
   "metadata": {},
   "outputs": [
    {
     "data": {
      "text/plain": [
       "[<a href=\"https://www.naver.com\">naver</a>,\n",
       " <a href=\"https://www.google.com\">google</a>,\n",
       " <a href=\"https://www.daum.net\">daum</a>]"
      ]
     },
     "execution_count": 34,
     "metadata": {},
     "output_type": "execute_result"
    }
   ],
   "source": [
    "bs.find_all('a')"
   ]
  },
  {
   "cell_type": "code",
   "execution_count": 35,
   "id": "7ac1256c",
   "metadata": {},
   "outputs": [],
   "source": [
    "li = bs.find_all('a')"
   ]
  },
  {
   "cell_type": "code",
   "execution_count": 36,
   "id": "579f8c42",
   "metadata": {},
   "outputs": [
    {
     "name": "stdout",
     "output_type": "stream",
     "text": [
      "naver\n",
      "google\n",
      "daum\n"
     ]
    }
   ],
   "source": [
    "for i in li:\n",
    "    print(i.text)"
   ]
  },
  {
   "cell_type": "code",
   "execution_count": 38,
   "id": "9dc2e3eb",
   "metadata": {},
   "outputs": [
    {
     "name": "stdout",
     "output_type": "stream",
     "text": [
      "https://www.naver.com\n",
      "https://www.google.com\n",
      "https://www.daum.net\n"
     ]
    }
   ],
   "source": [
    "for i in li:\n",
    "    print(i.attrs['href'])"
   ]
  },
  {
   "cell_type": "markdown",
   "id": "30a35cdd",
   "metadata": {},
   "source": [
    "많이 사용하는 attrs의 경우, 링크를 뽑는 작업"
   ]
  }
 ],
 "metadata": {
  "kernelspec": {
   "display_name": "Python 3 (ipykernel)",
   "language": "python",
   "name": "python3"
  },
  "language_info": {
   "codemirror_mode": {
    "name": "ipython",
    "version": 3
   },
   "file_extension": ".py",
   "mimetype": "text/x-python",
   "name": "python",
   "nbconvert_exporter": "python",
   "pygments_lexer": "ipython3",
   "version": "3.9.7"
  }
 },
 "nbformat": 4,
 "nbformat_minor": 5
}

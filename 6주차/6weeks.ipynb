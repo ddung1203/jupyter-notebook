{
 "cells": [
  {
   "cell_type": "code",
   "execution_count": null,
   "id": "e1cb787b",
   "metadata": {},
   "outputs": [],
   "source": [
    "%%writefile Html_ex.html\n",
    "<!doctype html>\n",
    "<html>\n",
    "<head>\n",
    "<meta charset = 'utf-8'>\n",
    "<title>연습용 HTML</title>\n",
    "</head>\n",
    "<body>\n",
    "\n",
    "</body>\n",
    "</html>"
   ]
  }
 ],
 "metadata": {
  "kernelspec": {
   "display_name": "Python 3 (ipykernel)",
   "language": "python",
   "name": "python3"
  },
  "language_info": {
   "codemirror_mode": {
    "name": "ipython",
    "version": 3
   },
   "file_extension": ".py",
   "mimetype": "text/x-python",
   "name": "python",
   "nbconvert_exporter": "python",
   "pygments_lexer": "ipython3",
   "version": "3.9.7"
  }
 },
 "nbformat": 4,
 "nbformat_minor": 5
}

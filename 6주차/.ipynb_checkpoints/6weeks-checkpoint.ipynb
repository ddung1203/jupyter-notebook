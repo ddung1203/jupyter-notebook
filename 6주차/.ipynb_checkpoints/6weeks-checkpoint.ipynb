{
 "cells": [
  {
   "cell_type": "code",
   "execution_count": 3,
   "id": "d5949d50",
   "metadata": {},
   "outputs": [
    {
     "name": "stdout",
     "output_type": "stream",
     "text": [
      "Overwriting Html_ex.html\n"
     ]
    }
   ],
   "source": [
    "%%writefile Html_ex.html\n",
    "<!doctype html>\n",
    "<html>\n",
    "<head>\n",
    "<meta charset = 'utf-8'>\n",
    "<title>연습용 HTML</title>\n",
    "</head>\n",
    "<body>\n",
    "<h1>도서 정보</h1>\n",
    "<p id = \"book_title\">파이썬</p>\n",
    "<p id = \"author\">전중석</p>\n",
    "<p id = \"publisher\">한국출판사</p>\n",
    "<p id = \"year\">2022</p>\n",
    "</body>\n",
    "</html>"
   ]
  },
  {
   "cell_type": "markdown",
   "id": "d6ebab2f",
   "metadata": {},
   "source": [
    "파싱(Parsing)\n",
    "\n",
    "HTML 코드 구문을 이해하고 요소별로 HTML 코드 분류"
   ]
  },
  {
   "cell_type": "code",
   "execution_count": 4,
   "id": "85cb3398",
   "metadata": {},
   "outputs": [],
   "source": [
    "from bs4 import BeautifulSoup"
   ]
  },
  {
   "cell_type": "code",
   "execution_count": 7,
   "id": "186da4e0",
   "metadata": {},
   "outputs": [],
   "source": [
    "html = \"\"\"\n",
    "<!doctype html>\n",
    "<html>\n",
    "<head>\n",
    "<meta charset = 'utf-8'>\n",
    "<title>연습용 HTML</title>\n",
    "</head>\n",
    "<body>\n",
    "<h1>도서 정보</h1>\n",
    "<p id = \"book_title\">파이썬</p>\n",
    "<p id = \"author\">전중석</p>\n",
    "<p id = \"publisher\">한국출판사</p>\n",
    "<p id = \"year\">2022</p>\n",
    "</body>\n",
    "</html>\n",
    "\"\"\""
   ]
  },
  {
   "cell_type": "code",
   "execution_count": 9,
   "id": "7bf49651",
   "metadata": {},
   "outputs": [],
   "source": [
    "bs = BeautifulSoup(html, 'lxml')"
   ]
  },
  {
   "cell_type": "code",
   "execution_count": 11,
   "id": "47da7a68",
   "metadata": {},
   "outputs": [
    {
     "data": {
      "text/plain": [
       "<p id=\"book_title\">파이썬</p>"
      ]
     },
     "execution_count": 11,
     "metadata": {},
     "output_type": "execute_result"
    }
   ],
   "source": [
    "bs.find('p')"
   ]
  },
  {
   "cell_type": "code",
   "execution_count": 13,
   "id": "3e832302",
   "metadata": {},
   "outputs": [],
   "source": [
    "li = bs.findAll('p')"
   ]
  },
  {
   "cell_type": "code",
   "execution_count": 15,
   "id": "54a5e21d",
   "metadata": {},
   "outputs": [
    {
     "name": "stdout",
     "output_type": "stream",
     "text": [
      "파이썬\n",
      "전중석\n",
      "한국출판사\n",
      "2022\n"
     ]
    }
   ],
   "source": [
    "for i in li:\n",
    "    print(i.text)"
   ]
  },
  {
   "cell_type": "markdown",
   "id": "e49140b1",
   "metadata": {},
   "source": [
    "웹페이지의 HTML 소스 코드를 가져오기 위한 내장 패키지 urllib\n",
    "\n",
    "아나콘다의 경우엔 requests 라이브러리 사용"
   ]
  },
  {
   "cell_type": "code",
   "execution_count": 16,
   "id": "09128571",
   "metadata": {},
   "outputs": [],
   "source": [
    "import requests"
   ]
  },
  {
   "cell_type": "code",
   "execution_count": 19,
   "id": "95ef452a",
   "metadata": {},
   "outputs": [],
   "source": [
    "status = requests.get('https://www.google.co.kr/')"
   ]
  },
  {
   "cell_type": "markdown",
   "id": "5d240b0c",
   "metadata": {},
   "source": [
    "<Responce [200]의 경우 서버에서 정상적으로 처리하여 응답한 경우를 말함\n",
    "\n",
    "(HTTP 서버 응답 코드)"
   ]
  },
  {
   "cell_type": "code",
   "execution_count": 20,
   "id": "b4e8b19c",
   "metadata": {},
   "outputs": [
    {
     "data": {
      "text/plain": [
       "requests.models.Response"
      ]
     },
     "execution_count": 20,
     "metadata": {},
     "output_type": "execute_result"
    }
   ],
   "source": [
    "type(status)"
   ]
  },
  {
   "cell_type": "code",
   "execution_count": 22,
   "id": "ee76112c",
   "metadata": {},
   "outputs": [],
   "source": [
    "# status.text"
   ]
  },
  {
   "cell_type": "code",
   "execution_count": 32,
   "id": "02afb9b5",
   "metadata": {},
   "outputs": [],
   "source": [
    "html = \"\"\"\n",
    "<!doctype html>\n",
    "<html>\n",
    "<head>\n",
    "<meta charset = 'utf-8'>\n",
    "<title>연습용 HTML</title>\n",
    "</head>\n",
    "<body>\n",
    "<a href = \"https://www.naver.com\">naver</a>\n",
    "<a href = \"https://www.google.com\">google</a>\n",
    "<a href = \"https://www.daum.net\">daum</a>\n",
    "</body>\n",
    "</html>\n",
    "\"\"\""
   ]
  },
  {
   "cell_type": "code",
   "execution_count": 33,
   "id": "a8feb534",
   "metadata": {},
   "outputs": [],
   "source": [
    "bs = BeautifulSoup(html, 'lxml')"
   ]
  },
  {
   "cell_type": "code",
   "execution_count": 34,
   "id": "e7ef23f5",
   "metadata": {},
   "outputs": [
    {
     "data": {
      "text/plain": [
       "[<a href=\"https://www.naver.com\">naver</a>,\n",
       " <a href=\"https://www.google.com\">google</a>,\n",
       " <a href=\"https://www.daum.net\">daum</a>]"
      ]
     },
     "execution_count": 34,
     "metadata": {},
     "output_type": "execute_result"
    }
   ],
   "source": [
    "bs.find_all('a')"
   ]
  },
  {
   "cell_type": "code",
   "execution_count": 35,
   "id": "49f55479",
   "metadata": {},
   "outputs": [],
   "source": [
    "li = bs.find_all('a')"
   ]
  },
  {
   "cell_type": "code",
   "execution_count": 36,
   "id": "99cc2de1",
   "metadata": {},
   "outputs": [
    {
     "name": "stdout",
     "output_type": "stream",
     "text": [
      "naver\n",
      "google\n",
      "daum\n"
     ]
    }
   ],
   "source": [
    "for i in li:\n",
    "    print(i.text)"
   ]
  },
  {
   "cell_type": "code",
   "execution_count": 38,
   "id": "c01112c7",
   "metadata": {},
   "outputs": [
    {
     "name": "stdout",
     "output_type": "stream",
     "text": [
      "https://www.naver.com\n",
      "https://www.google.com\n",
      "https://www.daum.net\n"
     ]
    }
   ],
   "source": [
    "for i in li:\n",
    "    print(i.attrs['href'])"
   ]
  },
  {
   "cell_type": "markdown",
   "id": "d5746727",
   "metadata": {},
   "source": [
    "많이 사용하는 attrs의 경우, 링크를 뽑는 작업"
   ]
  }
 ],
 "metadata": {
  "kernelspec": {
   "display_name": "Python 3 (ipykernel)",
   "language": "python",
   "name": "python3"
  },
  "language_info": {
   "codemirror_mode": {
    "name": "ipython",
    "version": 3
   },
   "file_extension": ".py",
   "mimetype": "text/x-python",
   "name": "python",
   "nbconvert_exporter": "python",
   "pygments_lexer": "ipython3",
   "version": "3.9.7"
  }
 },
 "nbformat": 4,
 "nbformat_minor": 5
}

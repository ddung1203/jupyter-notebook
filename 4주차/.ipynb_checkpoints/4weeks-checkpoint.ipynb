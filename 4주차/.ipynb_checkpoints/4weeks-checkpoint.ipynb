{
 "cells": [
  {
   "cell_type": "code",
   "execution_count": 6,
   "id": "7cfe92d2",
   "metadata": {},
   "outputs": [],
   "source": [
    "import urllib"
   ]
  },
  {
   "cell_type": "code",
   "execution_count": 8,
   "id": "c9ca1603",
   "metadata": {},
   "outputs": [],
   "source": [
    "from urllib.request import urlopen"
   ]
  },
  {
   "cell_type": "code",
   "execution_count": 11,
   "id": "f7bf09eb",
   "metadata": {},
   "outputs": [],
   "source": [
    "html = urlopen(\"https://pythonscraping.com/pages/page1.html\")"
   ]
  },
  {
   "cell_type": "code",
   "execution_count": 12,
   "id": "c3a22ab8",
   "metadata": {},
   "outputs": [
    {
     "data": {
      "text/plain": [
       "http.client.HTTPResponse"
      ]
     },
     "execution_count": 12,
     "metadata": {},
     "output_type": "execute_result"
    }
   ],
   "source": [
    "type(html)"
   ]
  },
  {
   "cell_type": "code",
   "execution_count": 19,
   "id": "e227f742",
   "metadata": {},
   "outputs": [],
   "source": [
    "html.read()"
   ]
  },
  {
   "cell_type": "code",
   "execution_count": 22,
   "id": "08ec7ad1",
   "metadata": {},
   "outputs": [],
   "source": [
    "daum_url = 'https://t1.daumcdn.net/daumtop_chanel/op/20200723055344399.png'"
   ]
  },
  {
   "cell_type": "code",
   "execution_count": 24,
   "id": "185c5183",
   "metadata": {},
   "outputs": [
    {
     "data": {
      "text/plain": [
       "('daum_logo.png', <http.client.HTTPMessage at 0x205286fedf0>)"
      ]
     },
     "execution_count": 24,
     "metadata": {},
     "output_type": "execute_result"
    }
   ],
   "source": [
    "urllib.request.urlretrieve(daum_url, 'daum_logo.png')"
   ]
  },
  {
   "cell_type": "code",
   "execution_count": 41,
   "id": "90e67c38",
   "metadata": {},
   "outputs": [],
   "source": [
    "pengsoo_url = 'https://upload.wikimedia.org/wikipedia/ko/thumb/d/d4/%ED%8E%AD%EC%88%98.jpg/300px-%ED%8E%AD%EC%88%98.jpg'"
   ]
  },
  {
   "cell_type": "code",
   "execution_count": 42,
   "id": "fcaf22cc",
   "metadata": {},
   "outputs": [],
   "source": [
    "mem=urllib.request.urlopen(pengsoo_url).read()"
   ]
  },
  {
   "cell_type": "code",
   "execution_count": 43,
   "id": "9fadc532",
   "metadata": {},
   "outputs": [],
   "source": [
    "with open('pengsoo.jpg', 'wb') as f:\n",
    "    f.write(mem)"
   ]
  },
  {
   "cell_type": "code",
   "execution_count": 44,
   "id": "5c427607",
   "metadata": {},
   "outputs": [],
   "source": [
    "# Web Scraping: 웹 사이트 내에 있는 정보 추출"
   ]
  },
  {
   "cell_type": "code",
   "execution_count": 45,
   "id": "4beb913d",
   "metadata": {},
   "outputs": [],
   "source": [
    "import webbrowser"
   ]
  },
  {
   "cell_type": "code",
   "execution_count": 56,
   "id": "722a9b3c",
   "metadata": {},
   "outputs": [],
   "source": [
    "# help(webbrowser)"
   ]
  },
  {
   "cell_type": "code",
   "execution_count": 50,
   "id": "4131cfb4",
   "metadata": {},
   "outputs": [
    {
     "data": {
      "text/plain": [
       "True"
      ]
     },
     "execution_count": 50,
     "metadata": {},
     "output_type": "execute_result"
    }
   ],
   "source": [
    "webbrowser.open_new('https://www.naver.com/')"
   ]
  },
  {
   "cell_type": "code",
   "execution_count": 51,
   "id": "794f8c4d",
   "metadata": {},
   "outputs": [],
   "source": [
    "naver_search_url='https://search.naver.com/search.naver?query='"
   ]
  },
  {
   "cell_type": "code",
   "execution_count": 52,
   "id": "f3c24740",
   "metadata": {},
   "outputs": [],
   "source": [
    "query = '호랑이'"
   ]
  },
  {
   "cell_type": "code",
   "execution_count": 54,
   "id": "9ec1abea",
   "metadata": {},
   "outputs": [],
   "source": [
    "url = naver_search_url + query"
   ]
  },
  {
   "cell_type": "code",
   "execution_count": 55,
   "id": "ef13054f",
   "metadata": {},
   "outputs": [
    {
     "data": {
      "text/plain": [
       "'https://search.naver.com/search.naver?query=호랑이'"
      ]
     },
     "execution_count": 55,
     "metadata": {},
     "output_type": "execute_result"
    }
   ],
   "source": [
    "url"
   ]
  },
  {
   "cell_type": "code",
   "execution_count": 57,
   "id": "ec1687e5",
   "metadata": {},
   "outputs": [
    {
     "data": {
      "text/plain": [
       "True"
      ]
     },
     "execution_count": 57,
     "metadata": {},
     "output_type": "execute_result"
    }
   ],
   "source": [
    "webbrowser.open_new('https://search.naver.com/search.naver?query=호랑이')"
   ]
  },
  {
   "cell_type": "code",
   "execution_count": 59,
   "id": "b3a79532",
   "metadata": {},
   "outputs": [],
   "source": [
    "google_search_url = 'https://www.google.com/search?q='"
   ]
  },
  {
   "cell_type": "code",
   "execution_count": 60,
   "id": "d13f56ba",
   "metadata": {},
   "outputs": [],
   "source": [
    "query = '펭수'"
   ]
  },
  {
   "cell_type": "code",
   "execution_count": 61,
   "id": "669109b8",
   "metadata": {},
   "outputs": [
    {
     "data": {
      "text/plain": [
       "True"
      ]
     },
     "execution_count": 61,
     "metadata": {},
     "output_type": "execute_result"
    }
   ],
   "source": [
    "webbrowser.open_new(google_search_url + query)"
   ]
  },
  {
   "cell_type": "code",
   "execution_count": 65,
   "id": "bb206011",
   "metadata": {},
   "outputs": [],
   "source": [
    "urls = [naver_search_url, google_search_url]\n",
    "query = '소'\n",
    "for i in urls:\n",
    "    webbrowser.open_new(i+query)"
   ]
  }
 ],
 "metadata": {
  "kernelspec": {
   "display_name": "Python 3 (ipykernel)",
   "language": "python",
   "name": "python3"
  },
  "language_info": {
   "codemirror_mode": {
    "name": "ipython",
    "version": 3
   },
   "file_extension": ".py",
   "mimetype": "text/x-python",
   "name": "python",
   "nbconvert_exporter": "python",
   "pygments_lexer": "ipython3",
   "version": "3.9.7"
  }
 },
 "nbformat": 4,
 "nbformat_minor": 5
}
